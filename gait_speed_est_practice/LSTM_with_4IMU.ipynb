{
 "cells": [
  {
   "cell_type": "code",
   "execution_count": 1,
   "id": "ee543394",
   "metadata": {},
   "outputs": [],
   "source": [
    "import pandas as pd\n",
    "import numpy as np\n",
    "import os"
   ]
  },
  {
   "cell_type": "code",
   "execution_count": 93,
   "id": "e65a1085",
   "metadata": {},
   "outputs": [],
   "source": [
    "# Directory of Dataset\n",
    "raw_data_path = \"IMU_data\"\n",
    "processed_data_path = \"processed_data\"\n",
    "\n",
    "# # Load and preprocess IMU data for each subject and condition\n",
    "# imu_data = []\n",
    "# conditions = ['OG_dt_control', 'OG_st_control', 'OG_dt_fatigue', 'OG_st_fatigue']\n",
    "# for condition in conditions:\n",
    "#     condition_path = os.path.join('IMU_data', condition)\n",
    "#     for subject in range(1, 19):\n",
    "#         if subject not in [4, 16]:  # Missing subjects based on your description\n",
    "#             subject_id = f'sub_{subject:02d}'\n",
    "#             subject_path = os.path.join(condition_path, subject_id)\n",
    "            \n",
    "#             if os.path.exists(subject_path):\n",
    "#                 # Call the load_imu_data function to load and preprocess the IMU data\n",
    "#                 imu_data_subject = load_imu_data(subject_id, condition)\n",
    "#                 imu_data.append(imu_data_subject)\n",
    "                \n",
    "                "
   ]
  },
  {
   "cell_type": "code",
   "execution_count": null,
   "id": "a81a7aff",
   "metadata": {},
   "outputs": [],
   "source": [
    "import os\n",
    "import numpy as np\n",
    "import pandas as pd\n",
    "from sklearn.preprocessing import StandardScaler\n",
    " \n",
    "#Load the dataset\n",
    "def DatasetFromPath(IMU_data_path, processed_data_path):\n",
    "    \n",
    "    conditions = ['OG_dt_control', 'OG_st_control', 'OG_dt_fatigue', 'OG_st_fatigue']\n",
    "    \n",
    "    Input_IMU = ['LL', 'LF', 'RL', 'RF']\n",
    "    \n",
    "    dataset_list = []\n",
    "    for condition in conditions:\n",
    "        condition_path_IMU = os.path.join(IMU_data_path, condition)\n",
    "        condition_path_processed = os.path.join(processed_data_path, condition)\n",
    "        if (os.path.isdir(condition_path_IMU)) & (os.path.isdir(condition_path_processed)):\n",
    "            X_list = []\n",
    "            for subject in os.listdir(condition_path_IMU):\n",
    "                subject_path_IMU = os.path.join(condition_path_IMU, subject)\n",
    "                subject_path_processed = os.path.join(condition_path_processed, subject)\n",
    "                if (os.path.isdir(subject_path_IMU)) & (os.path.isdir(subject_path_processed)):\n",
    "                    data_list = []\n",
    "                    for IMU in Input_IMU:\n",
    "                        data_file_IMU = f'{IMU}.csv'\n",
    "                        data_file_path_IMU = os.path.join(subject_path_IMU, data_file_IMU)\n",
    "                        data_file_path_processed = os.path.join(subject_path_processed, 'aggregate_params.csv')\n",
    "                        if os.path.isfile(data_file_path_IMU):\n",
    "                            data_IMU = pd.read_csv(data_file_path_IMU, \n",
    "                                                   usecols=['GyrX', \n",
    "                                                            'GyrY',\n",
    "                                                            'GyrZ', \n",
    "                                                            'AccX',\n",
    "                                                            'AccY', \n",
    "                                                            'AccZ'])\n",
    "                            data_IMU = data_IMU.add_suffix('_'+IMU)\n",
    "                            data_list.append(data_IMU)\n",
    "                        \n",
    "                        if os.path.isfile(data_file_path_processed):\n",
    "                            data_speed = pd.read_csv(data_file_path_processed,\n",
    "                                                     usecols=['speed_avg'])\n",
    "                            \n",
    "                    data = pd.concat(data_list, axis=1)\n",
    "                    data['gait_speed'] = [data_speed.iloc[0, 0]] * len(data)\n",
    "                    data['subject'] = [int(subject[-2:])] * len(data)\n",
    "                    X_list.append(data)\n",
    "            \n",
    "            X = pd.concat(X_list, axis=0)\n",
    "            X['condition'] = [condition] * len(X)\n",
    "            X['condition'] = [condition] * len(X)\n",
    "            dataset_list.append(X)\n",
    "    \n",
    "    Dataset = pd.concat(dataset_list, axis=0)\n",
    "    \n",
    "    # Preprocess data\n",
    "    scaler = StandardScaler()\n",
    "    Dataset[Dataset.columns.difference(['gait_speed', 'subject', 'condition'])] = scaler.fit_transform(Dataset[Dataset.columns.difference(['gait_speed', 'subject', 'condition'])])\n",
    "\n",
    "    return Dataset\n",
    "\n",
    "def segment_data(data, window_size, stride):\n",
    "    segments = []\n",
    "    output = []\n",
    "    \n",
    "    num_IMU = len([col for col in data.columns if col.startswith('GyrX')])\n",
    "    \n",
    "    for condition in data['condition'].unique():\n",
    "        subset = data[data['condition'] == condition]\n",
    "        \n",
    "        for start in range(0, len(subset) - window_size, stride):\n",
    "            end = start + window_size\n",
    "            segment = subset.iloc[start:end, :num_IMU*6].values\n",
    "#             gait_speed = subset.iloc[start:end]['gait_speed'].mean()\n",
    "            gait_speed = subset.iloc[start:end]['gait_speed']\n",
    "            \n",
    "            segments.append(segment)\n",
    "            output.append(gait_speed)\n",
    "    \n",
    "    return np.array(segments), np.array(output)\n"
   ]
  },
  {
   "cell_type": "code",
   "execution_count": 322,
   "id": "5ede2df7",
   "metadata": {},
   "outputs": [
    {
     "name": "stdout",
     "output_type": "stream",
     "text": [
      "    GyrX_LL   GyrY_LL   GyrZ_LL   AccX_LL   AccY_LL   AccZ_LL   GyrX_LF   \n",
      "0  0.027751 -0.088734  0.106713  0.143413  0.192772  0.193143  0.000081  \\\n",
      "1  0.027997 -0.089209  0.107631  0.130653  0.195382  0.182335  0.000389   \n",
      "2  0.028243 -0.088259  0.106253  0.139153  0.191027  0.185281 -0.000074   \n",
      "3  0.028490 -0.086357  0.107172  0.130653  0.196246  0.179389  0.000389   \n",
      "4  0.027012 -0.086832  0.107172  0.130653  0.185790  0.189222  0.000235   \n",
      "\n",
      "    GyrY_LF   GyrZ_LF   AccX_LF  ...   AccZ_RL   GyrX_RF   GyrY_RF   GyrZ_RF   \n",
      "0 -0.169108  0.001205  0.226143  ...  0.276084 -0.003266  0.083332 -0.067530  \\\n",
      "1 -0.169108 -0.000403  0.223778  ...  0.283976 -0.003874  0.081870 -0.067530   \n",
      "2 -0.168606  0.000803  0.221430  ...  0.281006 -0.003418  0.082844 -0.067530   \n",
      "3 -0.167098  0.001205  0.232443  ...  0.260320 -0.003266  0.081870 -0.067124   \n",
      "4 -0.169108  0.000401  0.223778  ...  0.272138 -0.003418  0.083819 -0.066718   \n",
      "\n",
      "    AccX_RF   AccY_RF   AccZ_RF  gait_speed  subject      condition  \n",
      "0 -0.148177 -0.575263  0.053747    1.198954        3  OG_dt_control  \n",
      "1 -0.144423 -0.571708  0.062024    1.198954        3  OG_dt_control  \n",
      "2 -0.145167 -0.573226  0.063680    1.198954        3  OG_dt_control  \n",
      "3 -0.145167 -0.574754  0.063680    1.198954        3  OG_dt_control  \n",
      "4 -0.145167 -0.574244  0.063132    1.198954        3  OG_dt_control  \n",
      "\n",
      "[5 rows x 27 columns]\n"
     ]
    }
   ],
   "source": [
    "Dataset = DatasetFromPath(raw_data_path, processed_data_path)\n",
    "\n",
    "print(Dataset.head())"
   ]
  },
  {
   "cell_type": "code",
   "execution_count": 256,
   "id": "4cf302a4",
   "metadata": {},
   "outputs": [],
   "source": [
    "window_size = 200\n",
    "stride = 50\n",
    "X, y = segment_data(Dataset, window_size, stride)"
   ]
  },
  {
   "cell_type": "code",
   "execution_count": 257,
   "id": "7c1bd148",
   "metadata": {},
   "outputs": [
    {
     "name": "stdout",
     "output_type": "stream",
     "text": [
      "(62630, 200, 24) (62630, 200)\n"
     ]
    }
   ],
   "source": [
    "print(X.shape, y.shape)"
   ]
  },
  {
   "cell_type": "code",
   "execution_count": 258,
   "id": "ad87581f",
   "metadata": {},
   "outputs": [],
   "source": [
    "from sklearn.model_selection import train_test_split\n",
    "\n",
    "# Split data into training and validation sets\n",
    "X_train, X_test, y_train, y_test = train_test_split(X, y, test_size=0.2, random_state=42)\n"
   ]
  },
  {
   "cell_type": "code",
   "execution_count": 259,
   "id": "f5a03a61",
   "metadata": {},
   "outputs": [],
   "source": [
    "\n",
    "#######################################################################################################################################\n",
    "# \n",
    "# IMU Data :                   timestamp  GyrX    GyrY    GyrZ    AccX    AccY    AccZ\n",
    "# Preprocessed Data :        stride_lengths_avg    clearances_min_avg       clearances_max_avg\n",
    "#                            stride_times_avg      swing_times_avg          stance_times_avg\n",
    "#                            stance_ratios_avg     cadence_avg              speed_avg\n",
    "#                            stride_lengths_CV     clearances_min_CV        clearances_max_CV\n",
    "#                            stride_times_CV       swing_times_CV           stance_times_CV\n",
    "#\n",
    "# 18-2 = 16 subjects\n",
    "# Consisting of 6-minute walks under single- (st) and dual-task (dt)\n",
    "# Conditions in non-fatigued (control) and fatigued (fatigue) states\n",
    "# 9 units on head (HE), chest(ST), lower back(SA), wrists(LW, RW), legs(LL, RL), and feet(LF, RF)\n",
    "#######################################################################################################################################\n",
    "\n",
    "# Use only Control Data\n",
    "# Use Legs and Feet Data\n",
    "\n",
    "from torch.utils.data import Dataset\n",
    "import torch\n",
    "\n",
    "class GaitDataset(Dataset):\n",
    "    def __init__(self, X, y):\n",
    "        self.X = torch.tensor(X, dtype=torch.float32)\n",
    "        self.y = torch.tensor(y, dtype=torch.float32)\n",
    "    \n",
    "    def __len__(self):\n",
    "        return len(self.X)\n",
    "    \n",
    "    def __getitem__(self, idx):\n",
    "        return self.X[idx], self.y[idx]\n",
    "\n"
   ]
  },
  {
   "cell_type": "code",
   "execution_count": 260,
   "id": "60f06303",
   "metadata": {},
   "outputs": [],
   "source": [
    "import torch\n",
    "from torch.utils.data import DataLoader\n",
    "\n",
    "\n",
    "# Create data loaders\n",
    "train_dataset = GaitDataset(X_train, y_train)\n",
    "test_dataset = GaitDataset(X_test, y_test)\n",
    "\n",
    "train_loader = DataLoader(train_dataset, batch_size=32, shuffle=True)\n",
    "test_loader = DataLoader(test_dataset, batch_size=32, shuffle=False)\n",
    "\n",
    "# Set the device to GPU if available\n",
    "device = torch.device(\"cuda\" if torch.cuda.is_available() else \"cpu\")\n"
   ]
  },
  {
   "cell_type": "code",
   "execution_count": 261,
   "id": "03340c4b",
   "metadata": {},
   "outputs": [],
   "source": [
    "import torch\n",
    "import torch.nn as nn\n",
    "\n",
    "class GaitLSTM(nn.Module):\n",
    "    def __init__(self, input_size, hidden_size, num_layers, output_size, dropout_prob=0.5, bi_directional=False):\n",
    "        super(GaitLSTM, self).__init__()\n",
    "        self.hidden_size = hidden_size\n",
    "        self.num_layers = num_layers\n",
    "        self.lstm = nn.LSTM(input_size, hidden_size, num_layers, batch_first=True, dropout=dropout_prob,\n",
    "                           bidirectional = bi_directional)\n",
    "        self.dropout = nn.Dropout(dropout_prob)\n",
    "        self.fc = nn.Linear(hidden_size, output_size)\n",
    "\n",
    "    def forward(self, x):\n",
    "        h0 = torch.zeros(self.num_layers, x.size(0), self.hidden_size).to(device)\n",
    "        c0 = torch.zeros(self.num_layers, x.size(0), self.hidden_size).to(device)\n",
    "        out, _ = self.lstm(x, (h0, c0))\n",
    "        out = self.dropout(out[:, -1, :])\n",
    "        out = self.fc(out)\n",
    "        return out"
   ]
  },
  {
   "cell_type": "code",
   "execution_count": 273,
   "id": "385c2024",
   "metadata": {},
   "outputs": [],
   "source": [
    "# Instantiate the model, loss function, and optimizer\n",
    "input_size = X_train.shape[2]\n",
    "hidden_size = 128\n",
    "num_layers = 3\n",
    "output_size = 1\n",
    "dropout_prob = 0.4\n",
    "\n"
   ]
  },
  {
   "cell_type": "code",
   "execution_count": 284,
   "id": "e33e0b9d",
   "metadata": {},
   "outputs": [],
   "source": [
    "\n",
    "model = GaitLSTM(input_size, hidden_size, num_layers, output_size, dropout_prob).to(device)\n",
    "criterion = torch.nn.MSELoss()\n",
    "optimizer = torch.optim.Adam(model.parameters(), lr=0.001, weight_decay=0.0001)\n"
   ]
  },
  {
   "cell_type": "code",
   "execution_count": 285,
   "id": "e08c651a",
   "metadata": {},
   "outputs": [
    {
     "name": "stderr",
     "output_type": "stream",
     "text": [
      "/Users/hyungseok/anaconda3/envs/estimating_speed/lib/python3.11/site-packages/torch/nn/modules/loss.py:536: UserWarning: Using a target size (torch.Size([32, 200])) that is different to the input size (torch.Size([32, 1])). This will likely lead to incorrect results due to broadcasting. Please ensure they have the same size.\n",
      "  return F.mse_loss(input, target, reduction=self.reduction)\n",
      "/Users/hyungseok/anaconda3/envs/estimating_speed/lib/python3.11/site-packages/torch/nn/modules/loss.py:536: UserWarning: Using a target size (torch.Size([24, 200])) that is different to the input size (torch.Size([24, 1])). This will likely lead to incorrect results due to broadcasting. Please ensure they have the same size.\n",
      "  return F.mse_loss(input, target, reduction=self.reduction)\n"
     ]
    },
    {
     "name": "stdout",
     "output_type": "stream",
     "text": [
      "Epoch: 1/10, Training Loss: 0.0252\n",
      "Epoch: 2/10, Training Loss: 0.0094\n",
      "Epoch: 3/10, Training Loss: 0.0081\n",
      "Epoch: 4/10, Training Loss: 0.0052\n",
      "Epoch: 5/10, Training Loss: 0.0034\n",
      "Epoch: 6/10, Training Loss: 0.0025\n",
      "Epoch: 7/10, Training Loss: 0.0020\n",
      "Epoch: 8/10, Training Loss: 0.0018\n",
      "Epoch: 9/10, Training Loss: 0.0017\n",
      "Epoch: 10/10, Training Loss: 0.0016\n"
     ]
    }
   ],
   "source": [
    "import matplotlib.pyplot as plt\n",
    "\n",
    "train_losses = []\n",
    "\n",
    "# Train the model\n",
    "num_epochs = 10\n",
    "for epoch in range(num_epochs):\n",
    "    model.train()\n",
    "    epoch_loss = 0\n",
    "    for i, (inputs, targets) in enumerate(train_loader):\n",
    "        inputs = inputs.to(device).float()\n",
    "        targets = targets.to(device).float()\n",
    "\n",
    "        optimizer.zero_grad()\n",
    "        outputs = model(inputs)\n",
    "        loss = criterion(outputs, targets)\n",
    "        loss.backward()\n",
    "        optimizer.step()\n",
    "        epoch_loss += loss.item()\n",
    "\n",
    "    epoch_loss /= len(train_loader)\n",
    "    train_losses.append(epoch_loss)\n",
    "    print(f\"Epoch: {epoch+1}/{num_epochs}, Training Loss: {epoch_loss:.4f}\")\n",
    "\n",
    "# Plot train result\n",
    "plt.figure()\n",
    "plt.plot(train_losses, label='Training Loss')\n",
    "plt.xlabel('Epoch')\n",
    "plt.ylabel('Loss')\n",
    "plt.title('Training Losses')\n",
    "plt.legend()\n",
    "plt.show()\n",
    "\n",
    "# Save the model's state_dict(parameter)\n",
    "torch.save(model.state_dict(), 'LSTMmodel_4IMU.pth')"
   ]
  },
  {
   "cell_type": "code",
   "execution_count": 318,
   "id": "25780c9c",
   "metadata": {},
   "outputs": [
    {
     "name": "stdout",
     "output_type": "stream",
     "text": [
      "Test Loss: 0.0013\n",
      "Test accuracy within 0.1 tolerance: 98.32%\n"
     ]
    },
    {
     "data": {
      "image/png": "[encoded data removed]",
      "text/plain": [
       "<Figure size 640x480 with 1 Axes>"
      ]
     },
     "metadata": {},
     "output_type": "display_data"
    }
   ],
   "source": [
    "# Initialize the test loss and the total number of correct predictions\n",
    "test_loss = 0\n",
    "test_rmse = 0\n",
    "correct = 0\n",
    "total = 0\n",
    "total_samples = 0\n",
    "\n",
    "actual_speeds = []\n",
    "predicted_speeds = []\n",
    "\n",
    "# Iterate through the test dataset\n",
    "with torch.no_grad():\n",
    "    for inputs, targets in test_loader:\n",
    "        inputs, targets = inputs.to(device).float(), targets.to(device).float()\n",
    "\n",
    "        # Forward pass\n",
    "        outputs = model(inputs)\n",
    "        \n",
    "        # Calculate the test loss\n",
    "        loss = criterion(outputs.view(-1), targets.mean(dim=1))\n",
    "        test_loss += loss.item()\n",
    "        \n",
    "        # Compare the predicted gait speed with the average of the actual gait speeds\n",
    "        total += targets.size(0)\n",
    "        correct += torch.isclose(outputs.view(-1), targets.mean(dim=1), atol=0.1).sum().item()\n",
    "        \n",
    "        # Store the actual and predicted gait speeds\n",
    "        actual_speeds.extend(targets.mean(axis=1).view(-1).cpu().numpy())\n",
    "        predicted_speeds.extend(outputs.view(-1).cpu().numpy())\n",
    "\n",
    "# Calculate the average test loss\n",
    "test_loss = test_loss / len(test_loader)\n",
    "\n",
    "# Calculate the accuracy of the model using a custom tolerance\n",
    "accuracy = 100 * correct / total\n",
    "print(f'Test Loss: {test_loss:.4f}')\n",
    "print(f'Test accuracy within 0.1 tolerance: {accuracy:.2f}%')\n",
    "\n",
    "# Create a scatter plot of actual vs. predicted gait speeds\n",
    "plt.figure()\n",
    "plt.scatter(actual_speeds, predicted_speeds, alpha=0.5)\n",
    "plt.xlabel('Actual Gait Speed')\n",
    "plt.ylabel('Predicted Gait Speed')\n",
    "plt.title('Actual vs. Predicted Gait Speed')\n",
    "plt.show()"
   ]
  },
  {
   "cell_type": "code",
   "execution_count": null,
   "id": "d08ce94c",
   "metadata": {},
   "outputs": [],
   "source": []
  },
  {
   "cell_type": "code",
   "execution_count": null,
   "id": "0fb2d9b1",
   "metadata": {},
   "outputs": [],
   "source": []
  },
  {
   "cell_type": "code",
   "execution_count": null,
   "id": "15575944",
   "metadata": {},
   "outputs": [],
   "source": []
  },
  {
   "cell_type": "code",
   "execution_count": null,
   "id": "4668b3a1",
   "metadata": {},
   "outputs": [],
   "source": []
  },
  {
   "cell_type": "code",
   "execution_count": null,
   "id": "bc0daae8",
   "metadata": {},
   "outputs": [],
   "source": []
  },
  {
   "cell_type": "code",
   "execution_count": null,
   "id": "df5789cf",
   "metadata": {},
   "outputs": [],
   "source": []
  },
  {
   "cell_type": "code",
   "execution_count": null,
   "id": "045a599b",
   "metadata": {},
   "outputs": [],
   "source": []
  },
  {
   "cell_type": "code",
   "execution_count": null,
   "id": "652708cd",
   "metadata": {},
   "outputs": [],
   "source": []
  },
  {
   "cell_type": "code",
   "execution_count": null,
   "id": "1ef02166",
   "metadata": {},
   "outputs": [],
   "source": []
  },
  {
   "cell_type": "code",
   "execution_count": null,
   "id": "40550732",
   "metadata": {},
   "outputs": [],
   "source": []
  },
  {
   "cell_type": "code",
   "execution_count": null,
   "id": "81142ce9",
   "metadata": {},
   "outputs": [],
   "source": []
  },
  {
   "cell_type": "code",
   "execution_count": null,
   "id": "70631ab7",
   "metadata": {},
   "outputs": [],
   "source": []
  },
  {
   "cell_type": "code",
   "execution_count": null,
   "id": "c170c811",
   "metadata": {},
   "outputs": [],
   "source": []
  },
  {
   "cell_type": "code",
   "execution_count": null,
   "id": "bd90227e",
   "metadata": {},
   "outputs": [],
   "source": []
  },
  {
   "cell_type": "code",
   "execution_count": null,
   "id": "fa4ef361",
   "metadata": {},
   "outputs": [],
   "source": []
  },
  {
   "cell_type": "code",
   "execution_count": null,
   "id": "2086da48",
   "metadata": {},
   "outputs": [],
   "source": []
  },
  {
   "cell_type": "code",
   "execution_count": null,
   "id": "928b31b1",
   "metadata": {},
   "outputs": [],
   "source": []
  },
  {
   "cell_type": "code",
   "execution_count": null,
   "id": "8036b408",
   "metadata": {},
   "outputs": [],
   "source": []
  }
 ],
 "metadata": {
  "kernelspec": {
   "display_name": "speed_estimation",
   "language": "python",
   "name": "estimating_speed"
  },
  "language_info": {
   "codemirror_mode": {
    "name": "ipython",
    "version": 3
   },
   "file_extension": ".py",
   "mimetype": "text/x-python",
   "name": "python",
   "nbconvert_exporter": "python",
   "pygments_lexer": "ipython3",
   "version": "3.11.2"
  }
 },
 "nbformat": 4,
 "nbformat_minor": 5
}
